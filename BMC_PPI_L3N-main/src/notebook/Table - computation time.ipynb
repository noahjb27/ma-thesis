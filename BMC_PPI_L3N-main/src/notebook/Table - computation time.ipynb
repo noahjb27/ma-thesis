{
 "cells": [
  {
   "cell_type": "code",
   "execution_count": 1,
   "metadata": {
    "ExecuteTime": {
     "end_time": "2022-05-04T10:48:45.918814Z",
     "start_time": "2022-05-04T10:48:45.464401Z"
    }
   },
   "outputs": [],
   "source": [
    "import json\n",
    "from statistics import mean\n",
    "import numpy as np"
   ]
  },
  {
   "cell_type": "code",
   "execution_count": 5,
   "metadata": {
    "ExecuteTime": {
     "end_time": "2022-05-04T10:49:55.442187Z",
     "start_time": "2022-05-04T10:49:55.431178Z"
    }
   },
   "outputs": [
    {
     "name": "stdout",
     "output_type": "stream",
     "text": [
      "['commonNeighbor_bioGRID_sample_0', 'commonNeighbor_bioGRID_sample_1', 'commonNeighbor_bioGRID_sample_2', 'commonNeighbor_bioGRID_sample_3', 'commonNeighbor_bioGRID_sample_4', 'commonNeighbor_bioGRID_sample_5', 'commonNeighbor_bioGRID_sample_6', 'commonNeighbor_bioGRID_sample_7', 'commonNeighbor_bioGRID_sample_8', 'commonNeighbor_bioGRID_sample_9']\n"
     ]
    }
   ],
   "source": [
    "runTime = {}\n",
    "with open(\"./linkPred_out/runTime_yeast.json\", \"r\") as f:\n",
    "    runTime = json.loads(f.read())\n",
    "print(list(runTime.keys())[:10])"
   ]
  },
  {
   "cell_type": "code",
   "execution_count": 6,
   "metadata": {
    "ExecuteTime": {
     "end_time": "2022-05-04T10:50:42.962635Z",
     "start_time": "2022-05-04T10:50:42.947622Z"
    },
    "scrolled": true
   },
   "outputs": [
    {
     "name": "stdout",
     "output_type": "stream",
     "text": [
      "bioGRID\n",
      "commonNeighbor: 2.65 minutes, std 0.06\n",
      "L3Normalizing: 5.76 minutes, std 0.08\n",
      "CRA: 2.51 minutes, std 0.03\n",
      "Sim: 12.38 minutes, std 0.24\n",
      "CH2_L3: 46.93 minutes, std 1.54\n",
      "L3E1_f1: 11.87 minutes, std 0.55\n",
      "L3E1_f2: 52.77 minutes, std 1.18\n",
      "\n",
      "STRING\n",
      "commonNeighbor: 1.22 minutes, std 0.11\n",
      "L3Normalizing: 2.96 minutes, std 0.08\n",
      "CRA: 1.2 minutes, std 0.01\n",
      "Sim: 3.81 minutes, std 0.07\n",
      "CH2_L3: 10.28 minutes, std 0.71\n",
      "L3E1_f1: 6.35 minutes, std 0.46\n",
      "L3E1_f2: 13.01 minutes, std 0.6\n",
      "\n",
      "MINT\n",
      "commonNeighbor: 0.82 minutes, std 0.03\n",
      "L3Normalizing: 0.88 minutes, std 0.01\n",
      "CRA: 0.81 minutes, std 0.01\n",
      "Sim: 0.91 minutes, std 0.02\n",
      "CH2_L3: 0.91 minutes, std 0.03\n",
      "L3E1_f1: 0.9 minutes, std 0.02\n",
      "L3E1_f2: 0.98 minutes, std 0.06\n",
      "\n"
     ]
    }
   ],
   "source": [
    "methods = [\"commonNeighbor\", \"L3Normalizing\", \"CRA\", \"Sim\", \"CH2_L3\", \"L3E1_f1\", \"L3E1_f2\"]\n",
    "dss = ['bioGRID', 'STRING', 'MINT']\n",
    "\n",
    "for ds in dss:\n",
    "    print(ds)\n",
    "    for method in methods:\n",
    "        print(\"{}: {} minutes, std {}\".format(\n",
    "            method,\n",
    "            np.around(mean([runTime[\"{}_{}_sample_{}\".format(method, ds, i)] for i in range(10)])/60, 2),\n",
    "            np.around(np.std([runTime[\"{}_{}_sample_{}\".format(method, ds, i)] for i in range(10)])/60, 2)\n",
    "         ))\n",
    "    print(\"\")"
   ]
  },
  {
   "cell_type": "code",
   "execution_count": 7,
   "metadata": {
    "ExecuteTime": {
     "end_time": "2022-05-04T10:50:52.071264Z",
     "start_time": "2022-05-04T10:50:52.058252Z"
    }
   },
   "outputs": [
    {
     "name": "stdout",
     "output_type": "stream",
     "text": [
      "['L3E_test1_STRING_sample_0', 'L3E_test1_STRING_sample_1', 'L3E_test1_STRING_sample_2', 'L3E_test1_STRING_sample_3', 'L3E_test1_STRING_sample_4', 'L3E_test1_STRING_sample_5', 'L3E_test1_STRING_sample_6', 'L3E_test1_STRING_sample_7', 'L3E_test1_STRING_sample_8', 'L3E_test1_STRING_sample_9']\n"
     ]
    }
   ],
   "source": [
    "runTime = {}\n",
    "with open(\"./linkPred_out/runTime.json\", \"r\") as f:\n",
    "    runTime = json.loads(f.read())\n",
    "print(list(runTime.keys())[:10])"
   ]
  },
  {
   "cell_type": "code",
   "execution_count": 8,
   "metadata": {
    "ExecuteTime": {
     "end_time": "2022-05-04T10:51:00.604672Z",
     "start_time": "2022-05-04T10:51:00.581653Z"
    }
   },
   "outputs": [
    {
     "name": "stdout",
     "output_type": "stream",
     "text": [
      "synthetic\n",
      "commonNeighbor: 3.57 minutes, std 0.07\n",
      "L3Normalizing: 3.85 minutes, std 0.03\n",
      "CRA: 3.38 minutes, std 0.01\n",
      "Sim: 4.92 minutes, std 0.07\n",
      "CH2_L3: 4.13 minutes, std 0.33\n",
      "L3E1_f1: 4.92 minutes, std 0.05\n",
      "L3E1_f2: 4.3 minutes, std 0.14\n",
      "\n"
     ]
    }
   ],
   "source": [
    "methods = [\"commonNeighbor\", \"L3Normalizing\", \"CRA\", \"Sim\", \"CH2_L3\", \"L3E1_f1\", \"L3E1_f2\"]\n",
    "dss = ['synthetic']\n",
    "\n",
    "for ds in dss:\n",
    "    print(ds)\n",
    "    for method in methods:\n",
    "        print(\"{}: {} minutes, std {}\".format(\n",
    "            method,\n",
    "            np.around(mean([runTime[\"{}_{}_sample_{}\".format(method, ds, i)] for i in range(10)])/60, 2),\n",
    "            np.around(np.std([runTime[\"{}_{}_sample_{}\".format(method, ds, i)] for i in range(10)])/60, 2)\n",
    "         ))\n",
    "    print(\"\")"
   ]
  },
  {
   "cell_type": "code",
   "execution_count": null,
   "metadata": {},
   "outputs": [],
   "source": []
  }
 ],
 "metadata": {
  "kernelspec": {
   "display_name": "Python 3 (ipykernel)",
   "language": "python",
   "name": "python3"
  },
  "language_info": {
   "codemirror_mode": {
    "name": "ipython",
    "version": 3
   },
   "file_extension": ".py",
   "mimetype": "text/x-python",
   "name": "python",
   "nbconvert_exporter": "python",
   "pygments_lexer": "ipython3",
   "version": "3.9.7"
  },
  "latex_envs": {
   "LaTeX_envs_menu_present": true,
   "autoclose": false,
   "autocomplete": true,
   "bibliofile": "biblio.bib",
   "cite_by": "apalike",
   "current_citInitial": 1,
   "eqLabelWithNumbers": true,
   "eqNumInitial": 1,
   "hotkeys": {
    "equation": "Ctrl-E",
    "itemize": "Ctrl-I"
   },
   "labels_anchors": false,
   "latex_user_defs": false,
   "report_style_numbering": false,
   "user_envs_cfg": false
  }
 },
 "nbformat": 4,
 "nbformat_minor": 4
}
