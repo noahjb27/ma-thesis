{
 "cells": [
  {
   "cell_type": "code",
   "execution_count": 1,
   "metadata": {},
   "outputs": [],
   "source": [
    "import mysql.connector \n",
    "import pandas as pd\n",
    "import json"
   ]
  },
  {
   "cell_type": "code",
   "execution_count": 2,
   "metadata": {},
   "outputs": [],
   "source": [
    "with open('config.json') as f:\n",
    "    config_data = json.load(f)"
   ]
  },
  {
   "cell_type": "code",
   "execution_count": 3,
   "metadata": {},
   "outputs": [],
   "source": [
    "# Establishing Database connection and making query\n",
    "# info for local mysql database connection\n",
    "host = config_data['database']['host']\n",
    "user = config_data[\"database\"][\"user\"]\n",
    "password = config_data[\"database\"][\"password\"]\n",
    "database = \"pt_network_berlin\""
   ]
  },
  {
   "cell_type": "code",
   "execution_count": 4,
   "metadata": {},
   "outputs": [],
   "source": [
    "# query for all relevant information from database\n",
    "query = \"\"\"\n",
    "    SELECT s.stop_id, s.location, ls.stop_order, ls.line_id, l.line_name, s.stop_name, l.type, l.year, l.Frequency, l.east_west\n",
    "    FROM line_stops ls\n",
    "    INNER JOIN stops s ON ls.stop_id = s.stop_id\n",
    "    INNER JOIN lines_info l ON ls.line_id = l.line_id\n",
    "    ORDER BY l.year, ls.line_id, ls.stop_order;\n",
    "    \"\"\""
   ]
  },
  {
   "cell_type": "code",
   "execution_count": 5,
   "metadata": {},
   "outputs": [],
   "source": [
    "# function to execute query that stores data in dataframe\n",
    "def get_network_data(query):\n",
    "    mycursor.execute(query)\n",
    "\n",
    "    results = mycursor.fetchall()\n",
    "    columns = [\"stop_id\", \"coordinate_location\", \"stop_order\", \"line_id\", \"line_name\", \"stop_name\", \"type\", \"year\", \"frequency\", \"east_west\"]\n",
    "    df = pd.DataFrame(results, columns=columns)\n",
    "\n",
    "    return df"
   ]
  },
  {
   "cell_type": "code",
   "execution_count": 6,
   "metadata": {},
   "outputs": [
    {
     "name": "stdout",
     "output_type": "stream",
     "text": [
      "Connected to MySQL\n"
     ]
    }
   ],
   "source": [
    "# opening of connection, query and closing of connection\n",
    "try:\n",
    "    # Establish a connection to the MySQL server\n",
    "    connection = mysql.connector.connect(\n",
    "        host=host,\n",
    "        user=user,\n",
    "        password=password,\n",
    "        database=database\n",
    "    )\n",
    "\n",
    "    if connection.is_connected():\n",
    "        print(\"Connected to MySQL\")\n",
    "\n",
    "    # For example, let's execute a simple query to fetch data from a table:\n",
    "    mycursor = connection.cursor()\n",
    "    \n",
    "    df = get_network_data(query)\n",
    "    \n",
    "\n",
    "    # Don't forget to close the cursor and the connection when you're done.\n",
    "    mycursor.close()\n",
    "    connection.close()\n",
    "\n",
    "except mysql.connector.Error as e:\n",
    "    print(f\"Error connecting to MySQL: {e}\")"
   ]
  },
  {
   "cell_type": "code",
   "execution_count": 7,
   "metadata": {},
   "outputs": [],
   "source": [
    "# saving dataframe to csv for easy access\n",
    "df.to_csv('queried_data.csv', index=False)  # index=False to omit the index column"
   ]
  }
 ],
 "metadata": {
  "kernelspec": {
   "display_name": "masters-thesis",
   "language": "python",
   "name": "python3"
  },
  "language_info": {
   "codemirror_mode": {
    "name": "ipython",
    "version": 3
   },
   "file_extension": ".py",
   "mimetype": "text/x-python",
   "name": "python",
   "nbconvert_exporter": "python",
   "pygments_lexer": "ipython3",
   "version": "3.11.9"
  }
 },
 "nbformat": 4,
 "nbformat_minor": 2
}
