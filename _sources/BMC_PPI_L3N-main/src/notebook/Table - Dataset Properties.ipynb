{
 "cells": [
  {
   "cell_type": "code",
   "execution_count": 3,
   "metadata": {
    "ExecuteTime": {
     "end_time": "2022-04-28T19:20:45.148825Z",
     "start_time": "2022-04-28T19:20:45.141820Z"
    }
   },
   "outputs": [],
   "source": [
    "import sys\n",
    "sys.path.append('..')\n",
    "\n",
    "# std\n",
    "import numpy as np\n",
    "import random as rn\n",
    "import json\n",
    "import time\n",
    "from collections import defaultdict\n",
    "from itertools import combinations\n",
    "\n",
    "# datasets\n",
    "import STRING\n",
    "import MINT\n",
    "import bioGRID\n",
    "import HuRI\n",
    "import synthetic_PPI\n",
    "import HI_II_14_src\n",
    "import IM24272_src\n",
    "import Lit_BM_13_src\n",
    "import Lit_NB_13_src\n",
    "\n",
    "# my lib\n",
    "import PPILinkPred as pred\n",
    "import helper as hr\n",
    "import genData_helper as helper\n",
    "import traversalHelper as tr"
   ]
  },
  {
   "cell_type": "code",
   "execution_count": 4,
   "metadata": {
    "ExecuteTime": {
     "end_time": "2022-04-28T19:20:45.333993Z",
     "start_time": "2022-04-28T19:20:45.316979Z"
    }
   },
   "outputs": [],
   "source": [
    "class ns:\n",
    "    BRToRelat = tr.Helper.binary_to_relation\n",
    "    toDualBR = tr.Helper.to_dual_binary_relation\n",
    "    BRToNode = tr.Helper.binary_relation_to_node\n",
    "    arr_pStr = tr.Helper.list_to_pathStrs\n",
    "    pStr_arr = tr.Helper.pathStrs_to_list\n",
    "    br_str = tr.Helper.br_to_pathStr"
   ]
  },
  {
   "cell_type": "code",
   "execution_count": 7,
   "metadata": {
    "ExecuteTime": {
     "end_time": "2022-04-28T19:21:37.699846Z",
     "start_time": "2022-04-28T19:21:36.846807Z"
    },
    "hide_input": true
   },
   "outputs": [
    {
     "name": "stdout",
     "output_type": "stream",
     "text": [
      "ds synthetic, num of nodes: 8272, ppi: 52922, mean cand ppi: 29816060.1, sampled ppi: 26461\n"
     ]
    }
   ],
   "source": [
    "# yeast\n",
    "import_funcs = [synthetic_PPI.parse_synthetic(root=\"../\")]\n",
    "dss = ['synthetic']\n",
    "\n",
    "for i in range(len(dss)):\n",
    "    ds = dss[i]\n",
    "    ppi_df = import_funcs[i]\n",
    "    ppi = [list(arr) for arr in np.asarray(ppi_df[['nodeA', 'nodeB']])]\n",
    "    ppiNodes = ns.BRToNode(ppi)\n",
    "    unionNodes = ppiNodes\n",
    "    \n",
    "    samplePPIs = []\n",
    "    with open(\"./sampled_datasets/{}_sampledPPIs.json\".format(ds), \"r\") as f:\n",
    "        samplePPIs = json.loads(f.read())\n",
    "    \n",
    "    candPPINums = []\n",
    "    for samplePPI in samplePPIs:\n",
    "        sampleNodes = list(ns.BRToNode(samplePPI))\n",
    "        candPPINums.append(len(sampleNodes)*(len(sampleNodes)-1)/2 - len(samplePPI))\n",
    "    sampledPPINum = int(len(ppi)*0.5)\n",
    "    \n",
    "    print(\"ds {}, num of nodes: {}, ppi: {}, mean cand ppi: {}, sampled ppi: {}\".format(\n",
    "            ds, len(unionNodes), len(ppi), np.mean(candPPINums), sampledPPINum\n",
    "    ))"
   ]
  },
  {
   "cell_type": "code",
   "execution_count": 9,
   "metadata": {
    "ExecuteTime": {
     "end_time": "2022-04-28T19:26:59.948727Z",
     "start_time": "2022-04-28T19:26:58.795252Z"
    },
    "hide_input": false
   },
   "outputs": [
    {
     "name": "stdout",
     "output_type": "stream",
     "text": [
      "ds HI_14_src, num of nodes: 4298, ppi: 13868, mean cand ppi: 5165263.5, sampled ppi: 6934\n",
      "ds IM24272_src, num of nodes: 5457, ppi: 28780, mean cand ppi: 10939287.2, sampled ppi: 14390\n",
      "ds Lit_BM_src, num of nodes: 5545, ppi: 11045, mean cand ppi: 8147585.2, sampled ppi: 5522\n",
      "ds Lit_NB_src, num of nodes: 3391, ppi: 4906, mean cand ppi: 2738996.0, sampled ppi: 2453\n"
     ]
    }
   ],
   "source": [
    "# yeast\n",
    "import_funcs = [HI_II_14_src.parse_HI_src(root=\"../\"), IM24272_src.parse_IM24272_src(root=\"../\"), \n",
    "                Lit_BM_13_src.parse_Lit_BM_src(root=\"../\"), Lit_NB_13_src.parse_Lit_NB_src(root=\"../\")]\n",
    "dss = ['HI_14_src', \"IM24272_src\", \"Lit_BM_src\", \"Lit_NB_src\"]\n",
    "\n",
    "for i in range(len(dss)):\n",
    "    ds = dss[i]\n",
    "    ppi_df = import_funcs[i]\n",
    "    ppi = [list(arr) for arr in np.asarray(ppi_df[['nodeA', 'nodeB']])]\n",
    "    ppiNodes = ns.BRToNode(ppi)\n",
    "    unionNodes = ppiNodes\n",
    "    \n",
    "    samplePPIs = []\n",
    "    with open(\"./sampled_datasets/{}_sampledPPIs.json\".format(ds), \"r\") as f:\n",
    "        samplePPIs = json.loads(f.read())\n",
    "    \n",
    "    candPPINums = []\n",
    "    for samplePPI in samplePPIs:\n",
    "        sampleNodes = list(ns.BRToNode(samplePPI))\n",
    "        candPPINums.append(len(sampleNodes)*(len(sampleNodes)-1)/2 - len(samplePPI))\n",
    "    sampledPPINum = int(len(ppi)*0.5)\n",
    "    \n",
    "    print(\"ds {}, num of nodes: {}, ppi: {}, mean cand ppi: {}, sampled ppi: {}\".format(\n",
    "            ds, len(unionNodes), len(ppi), np.mean(candPPINums), sampledPPINum\n",
    "    ))"
   ]
  },
  {
   "cell_type": "code",
   "execution_count": 5,
   "metadata": {
    "ExecuteTime": {
     "end_time": "2021-04-30T07:19:04.991192Z",
     "start_time": "2021-04-30T07:18:59.734624Z"
    },
    "hide_input": true
   },
   "outputs": [
    {
     "name": "stdout",
     "output_type": "stream",
     "text": [
      "ds bioGRID, num of nodes: 7085, ppi: 113116, ggi: 441140, mean cand ppi: 20045849.4, sampled ppi: 56558\n",
      "ds STRING, num of nodes: 4673, ppi: 94529, ggi: 64094, mean cand ppi: 9212026.6, sampled ppi: 47264\n",
      "ds MINT, num of nodes: 4049, ppi: 16927, ggi: 248, mean cand ppi: 5980266.7, sampled ppi: 8463\n"
     ]
    }
   ],
   "source": [
    "# yeast\n",
    "import_funcs = [bioGRID.parse_bioGRID(root=\"../\"), STRING.parse_STRING(root=\"../\"), MINT.parse_MINT(root=\"../\")]\n",
    "dss = ['bioGRID', 'STRING', 'MINT']\n",
    "\n",
    "for i in range(len(dss)):\n",
    "    ds = dss[i]\n",
    "    ggi_df, ppi_df = import_funcs[i]\n",
    "    ppi = [list(arr) for arr in np.asarray(ppi_df[['nodeA', 'nodeB']])]\n",
    "    ggi = [list(arr) for arr in np.asarray(ggi_df[['nodeA', 'nodeB']])]\n",
    "    ppiNodes = ns.BRToNode(ppi)\n",
    "    ggiNodes = ns.BRToNode(ggi)\n",
    "    unionNodes = ppiNodes|ggiNodes\n",
    "    \n",
    "    samplePPIs = []\n",
    "    with open(\"./sampled_datasets/{}_sampledPPIs.json\".format(ds), \"r\") as f:\n",
    "        samplePPIs = json.loads(f.read())\n",
    "    \n",
    "    candPPINums = []\n",
    "    for samplePPI in samplePPIs:\n",
    "        sampleNodes = list(ns.BRToNode(samplePPI))\n",
    "        candPPINums.append(len(sampleNodes)*(len(sampleNodes)-1)/2 - len(samplePPI))\n",
    "    sampledPPINum = int(len(ppi)*0.5)\n",
    "    \n",
    "    print(\"ds {}, num of nodes: {}, ppi: {}, ggi: {}, mean cand ppi: {}, sampled ppi: {}\".format(\n",
    "            ds, len(unionNodes), len(ppi), len(ggi), np.mean(candPPINums), sampledPPINum\n",
    "    ))"
   ]
  },
  {
   "cell_type": "code",
   "execution_count": 6,
   "metadata": {
    "ExecuteTime": {
     "end_time": "2021-04-30T07:19:26.665786Z",
     "start_time": "2021-04-30T07:19:04.993194Z"
    },
    "hide_input": true
   },
   "outputs": [
    {
     "name": "stdout",
     "output_type": "stream",
     "text": [
      "ds bioGRID_human, num of nodes: 24760, ppi: 452684, ggi: 8768, mean cand ppi: 220833040.0, sampled ppi: 226342\n",
      "ds STRING_human, num of nodes: 15668, ppi: 308614, ggi: 404776, mean cand ppi: 88982499.1, sampled ppi: 154307\n",
      "ds MINT_human, num of nodes: 7534, ppi: 22324, ggi: 1439, mean cand ppi: 15493875.9, sampled ppi: 11162\n",
      "ds HuRI, num of nodes: 8109, ppi: 51127, ggi: 0, mean cand ppi: 21899033.2, sampled ppi: 25563\n"
     ]
    }
   ],
   "source": [
    "# human\n",
    "import_funcs = [\n",
    "    bioGRID.parse_bioGRID(filename='./data/BioGRID/BIOGRID-ORGANISM-Homo_sapiens-3.5.187.tab2.txt'\n",
    "        , wFile_GGI='./data/parsed/BioGRID_homo_GGI.pkl'\n",
    "        , wFile_PPI='./data/parsed/BioGRID_homo_PPI.pkl', root=\"../\")\n",
    "\n",
    "    , STRING.parse_STRING(ppiFile='./data/STRING/9606.protein.links.v11.0.txt'\n",
    "        , typeFile='./data/STRING/9606.protein.actions.v11.0.txt'\n",
    "        , uniProtMap='./data/UniProt/uniprot-taxonomy_9606_STRING.tab', root='../'\n",
    "        , wFile_GGI='./data/parsed/STRING_homo_GGI.pkl', wFile_PPI='./data/parsed/STRING_homo_PPI.pkl')\n",
    "\n",
    "    , MINT.parse_MINT(ppiFile='./data/MINT/species human', uniProtMap=\"./data/UniProt/uniprot-taxonomy_9606.tab\"\n",
    "        , wFile_GGI='./data/parsed/MINT_homo_GGI.pkl', wFile_PPI='./data/parsed/MINT_homo_PPI.pkl', root=\"../\")\n",
    "]\n",
    "completePPIs_map = [\n",
    "    [list(ppi) for ppi in np.asarray([*import_funcs[0]][1][['nodeA', 'nodeB']])]\n",
    "    , [list(ppi) for ppi in np.asarray([*import_funcs[1]][1][['nodeA', 'nodeB']])]\n",
    "    , [list(ppi) for ppi in np.asarray([*import_funcs[2]][1][['nodeA', 'nodeB']])]\n",
    "    , [list(ppi) for ppi in np.asarray(HuRI.parse_HuRI(root=\"../\")[['nodeA', 'nodeB']])]\n",
    "]\n",
    "completeGGIs_map = [\n",
    "    [list(ppi) for ppi in np.asarray([*import_funcs[0]][0][['nodeA', 'nodeB']])]\n",
    "    , [list(ppi) for ppi in np.asarray([*import_funcs[1]][0][['nodeA', 'nodeB']])]\n",
    "    , [list(ppi) for ppi in np.asarray([*import_funcs[2]][0][['nodeA', 'nodeB']])]\n",
    "    , []\n",
    "]\n",
    "dss = ['bioGRID_human', 'STRING_human', 'MINT_human', 'HuRI']\n",
    "completePPIs = dict(zip(dss, completePPIs_map))\n",
    "completeGGIs = dict(zip(dss, completeGGIs_map))\n",
    "\n",
    "for i in range(len(dss)):\n",
    "    ds = dss[i]\n",
    "    ppi = completePPIs[ds]\n",
    "    ggi = completeGGIs[ds]\n",
    "    ppiNodes = ns.BRToNode(ppi)\n",
    "    ggiNodes = ns.BRToNode(ggi)\n",
    "    unionNodes = ppiNodes|ggiNodes\n",
    "    \n",
    "    samplePPIs = []\n",
    "    with open(\"./sampled_datasets/{}_sampledPPIs.json\".format(ds), \"r\") as f:\n",
    "        samplePPIs = json.loads(f.read())\n",
    "    \n",
    "    candPPINums = []\n",
    "    for samplePPI in samplePPIs:\n",
    "        sampleNodes = list(ns.BRToNode(samplePPI))\n",
    "        candPPINums.append(len(sampleNodes)*(len(sampleNodes)-1)/2 - len(samplePPI))\n",
    "    sampledPPINum = int(len(ppi)*0.5)\n",
    "    \n",
    "    print(\"ds {}, num of nodes: {}, ppi: {}, ggi: {}, mean cand ppi: {}, sampled ppi: {}\".format(\n",
    "            ds, len(unionNodes), len(ppi), len(ggi), np.mean(candPPINums), sampledPPINum\n",
    "    ))"
   ]
  },
  {
   "cell_type": "code",
   "execution_count": null,
   "metadata": {},
   "outputs": [],
   "source": []
  }
 ],
 "metadata": {
  "kernelspec": {
   "display_name": "Python 3 (ipykernel)",
   "language": "python",
   "name": "python3"
  },
  "language_info": {
   "codemirror_mode": {
    "name": "ipython",
    "version": 3
   },
   "file_extension": ".py",
   "mimetype": "text/x-python",
   "name": "python",
   "nbconvert_exporter": "python",
   "pygments_lexer": "ipython3",
   "version": "3.9.7"
  },
  "latex_envs": {
   "LaTeX_envs_menu_present": true,
   "autoclose": false,
   "autocomplete": true,
   "bibliofile": "biblio.bib",
   "cite_by": "apalike",
   "current_citInitial": 1,
   "eqLabelWithNumbers": true,
   "eqNumInitial": 1,
   "hotkeys": {
    "equation": "Ctrl-E",
    "itemize": "Ctrl-I"
   },
   "labels_anchors": false,
   "latex_user_defs": false,
   "report_style_numbering": false,
   "user_envs_cfg": false
  }
 },
 "nbformat": 4,
 "nbformat_minor": 4
}
