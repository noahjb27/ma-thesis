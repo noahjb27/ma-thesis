{
 "cells": [
  {
   "cell_type": "code",
   "execution_count": 1,
   "metadata": {
    "ExecuteTime": {
     "end_time": "2022-05-04T13:35:25.981694Z",
     "start_time": "2022-05-04T13:35:25.520270Z"
    }
   },
   "outputs": [],
   "source": [
    "import json\n",
    "from statistics import mean\n",
    "import numpy as np"
   ]
  },
  {
   "cell_type": "code",
   "execution_count": 2,
   "metadata": {
    "ExecuteTime": {
     "end_time": "2021-07-12T15:28:48.972068Z",
     "start_time": "2021-07-12T15:28:48.959057Z"
    }
   },
   "outputs": [
    {
     "ename": "FileNotFoundError",
     "evalue": "[Errno 2] No such file or directory: './linkPred_out/runTime_human.json'",
     "output_type": "error",
     "traceback": [
      "\u001b[1;31m---------------------------------------------------------------------------\u001b[0m",
      "\u001b[1;31mFileNotFoundError\u001b[0m                         Traceback (most recent call last)",
      "Cell \u001b[1;32mIn[2], line 2\u001b[0m\n\u001b[0;32m      1\u001b[0m runTime \u001b[38;5;241m=\u001b[39m {}\n\u001b[1;32m----> 2\u001b[0m \u001b[38;5;28;01mwith\u001b[39;00m \u001b[38;5;28;43mopen\u001b[39;49m\u001b[43m(\u001b[49m\u001b[38;5;124;43m\"\u001b[39;49m\u001b[38;5;124;43m./linkPred_out/runTime_human.json\u001b[39;49m\u001b[38;5;124;43m\"\u001b[39;49m\u001b[43m,\u001b[49m\u001b[43m \u001b[49m\u001b[38;5;124;43m\"\u001b[39;49m\u001b[38;5;124;43mr\u001b[39;49m\u001b[38;5;124;43m\"\u001b[39;49m\u001b[43m)\u001b[49m \u001b[38;5;28;01mas\u001b[39;00m f:\n\u001b[0;32m      3\u001b[0m     runTime \u001b[38;5;241m=\u001b[39m json\u001b[38;5;241m.\u001b[39mloads(f\u001b[38;5;241m.\u001b[39mread())\n\u001b[0;32m      4\u001b[0m \u001b[38;5;28mprint\u001b[39m(\u001b[38;5;28mlist\u001b[39m(runTime\u001b[38;5;241m.\u001b[39mkeys())[:\u001b[38;5;241m10\u001b[39m])\n",
      "File \u001b[1;32m~\\AppData\\Local\\Programs\\Python\\Python312\\Lib\\site-packages\\IPython\\core\\interactiveshell.py:324\u001b[0m, in \u001b[0;36m_modified_open\u001b[1;34m(file, *args, **kwargs)\u001b[0m\n\u001b[0;32m    317\u001b[0m \u001b[38;5;28;01mif\u001b[39;00m file \u001b[38;5;129;01min\u001b[39;00m {\u001b[38;5;241m0\u001b[39m, \u001b[38;5;241m1\u001b[39m, \u001b[38;5;241m2\u001b[39m}:\n\u001b[0;32m    318\u001b[0m     \u001b[38;5;28;01mraise\u001b[39;00m \u001b[38;5;167;01mValueError\u001b[39;00m(\n\u001b[0;32m    319\u001b[0m         \u001b[38;5;124mf\u001b[39m\u001b[38;5;124m\"\u001b[39m\u001b[38;5;124mIPython won\u001b[39m\u001b[38;5;124m'\u001b[39m\u001b[38;5;124mt let you open fd=\u001b[39m\u001b[38;5;132;01m{\u001b[39;00mfile\u001b[38;5;132;01m}\u001b[39;00m\u001b[38;5;124m by default \u001b[39m\u001b[38;5;124m\"\u001b[39m\n\u001b[0;32m    320\u001b[0m         \u001b[38;5;124m\"\u001b[39m\u001b[38;5;124mas it is likely to crash IPython. If you know what you are doing, \u001b[39m\u001b[38;5;124m\"\u001b[39m\n\u001b[0;32m    321\u001b[0m         \u001b[38;5;124m\"\u001b[39m\u001b[38;5;124myou can use builtins\u001b[39m\u001b[38;5;124m'\u001b[39m\u001b[38;5;124m open.\u001b[39m\u001b[38;5;124m\"\u001b[39m\n\u001b[0;32m    322\u001b[0m     )\n\u001b[1;32m--> 324\u001b[0m \u001b[38;5;28;01mreturn\u001b[39;00m \u001b[43mio_open\u001b[49m\u001b[43m(\u001b[49m\u001b[43mfile\u001b[49m\u001b[43m,\u001b[49m\u001b[43m \u001b[49m\u001b[38;5;241;43m*\u001b[39;49m\u001b[43margs\u001b[49m\u001b[43m,\u001b[49m\u001b[43m \u001b[49m\u001b[38;5;241;43m*\u001b[39;49m\u001b[38;5;241;43m*\u001b[39;49m\u001b[43mkwargs\u001b[49m\u001b[43m)\u001b[49m\n",
      "\u001b[1;31mFileNotFoundError\u001b[0m: [Errno 2] No such file or directory: './linkPred_out/runTime_human.json'"
     ]
    }
   ],
   "source": [
    "runTime = {}\n",
    "with open(\"./linkPred_out/runTime_human.json\", \"r\") as f:\n",
    "    runTime = json.loads(f.read())\n",
    "print(list(runTime.keys())[:10])"
   ]
  },
  {
   "cell_type": "code",
   "execution_count": 5,
   "metadata": {
    "ExecuteTime": {
     "end_time": "2021-07-12T15:28:49.586619Z",
     "start_time": "2021-07-12T15:28:49.565610Z"
    },
    "scrolled": true
   },
   "outputs": [
    {
     "name": "stdout",
     "output_type": "stream",
     "text": [
      "HuRI\n",
      "commonNeighbor: 2.87 minutes, std 0.1\n",
      "L3Normalizing: 3.28 minutes, std 0.09\n",
      "CRA: 2.73 minutes, std 0.03\n",
      "Sim: 3.41 minutes, std 0.02\n",
      "CH2_L3: 3.6 minutes, std 0.06\n",
      "L3E1_f1: 3.41 minutes, std 0.04\n",
      "L3E1_f2: 3.74 minutes, std 0.04\n",
      "\n",
      "MINT_human\n",
      "commonNeighbor: 2.03 minutes, std 0.14\n",
      "L3Normalizing: 2.12 minutes, std 0.11\n",
      "CRA: 1.93 minutes, std 0.02\n",
      "Sim: 2.12 minutes, std 0.02\n",
      "CH2_L3: 2.17 minutes, std 0.02\n",
      "L3E1_f1: 2.13 minutes, std 0.02\n",
      "L3E1_f2: 2.27 minutes, std 0.04\n",
      "\n"
     ]
    }
   ],
   "source": [
    "methods = [\"commonNeighbor\", \"L3Normalizing\", \"CRA\", \"Sim\", \"CH2_L3\", \"L3E1_f1\", \"L3E1_f2\"]\n",
    "#dss = ['bioGRID_human', 'STRING_human', 'HuRI', 'MINT_human']\n",
    "dss = ['HuRI', 'MINT_human', 'synthetic']\n",
    "\n",
    "for ds in dss:\n",
    "    print(ds)\n",
    "    for method in methods:\n",
    "        print(\"{}: {} minutes, std {}\".format(\n",
    "            method,\n",
    "            np.around(mean([runTime[\"{}_{}_sample_{}\".format(method, ds, i)] for i in range(10)])/60, 2),\n",
    "            np.around(np.std([runTime[\"{}_{}_sample_{}\".format(method, ds, i)] for i in range(10)])/60, 2)\n",
    "         ))\n",
    "\n",
    "    print(\"\")"
   ]
  },
  {
   "cell_type": "code",
   "execution_count": 6,
   "metadata": {
    "ExecuteTime": {
     "end_time": "2021-07-12T15:29:28.299543Z",
     "start_time": "2021-07-12T15:29:28.283529Z"
    }
   },
   "outputs": [
    {
     "name": "stdout",
     "output_type": "stream",
     "text": [
      "['commonNeighbor_bioGRID_human_sample_0', 'commonNeighbor_bioGRID_human_sample_1', 'commonNeighbor_bioGRID_human_sample_2', 'commonNeighbor_bioGRID_human_sample_3', 'commonNeighbor_bioGRID_human_sample_4', 'commonNeighbor_bioGRID_human_sample_5', 'commonNeighbor_bioGRID_human_sample_6', 'commonNeighbor_bioGRID_human_sample_7', 'commonNeighbor_bioGRID_human_sample_8', 'commonNeighbor_bioGRID_human_sample_9']\n"
     ]
    }
   ],
   "source": [
    "runTime = {}\n",
    "with open(\"./linkPred_out/runTime_human2.json\", \"r\") as f:\n",
    "    runTime = json.loads(f.read())\n",
    "print(list(runTime.keys())[:10])"
   ]
  },
  {
   "cell_type": "code",
   "execution_count": 7,
   "metadata": {
    "ExecuteTime": {
     "end_time": "2021-07-12T15:29:28.482533Z",
     "start_time": "2021-07-12T15:29:28.463516Z"
    }
   },
   "outputs": [
    {
     "name": "stdout",
     "output_type": "stream",
     "text": [
      "bioGRID_human\n",
      "commonNeighbor: 1.25 minutes, std 0.01\n",
      "L3Normalizing: 16.12 minutes, std 0.37\n",
      "CRA: 1.12 minutes, std 0.04\n",
      "Sim: 35.5 minutes, std 3.6\n",
      "CH2_L3: 117.33 minutes, std 4.78\n",
      "L3E1_f1: 27.9 minutes, std 0.89\n",
      "L3E1_f2: 130.26 minutes, std 4.97\n",
      "\n",
      "STRING_human\n",
      "commonNeighbor: 0.42 minutes, std 0.01\n",
      "L3Normalizing: 6.72 minutes, std 0.09\n",
      "CRA: 0.45 minutes, std 0.01\n",
      "Sim: 9.61 minutes, std 0.17\n",
      "CH2_L3: 25.32 minutes, std 0.5\n",
      "L3E1_f1: 11.97 minutes, std 0.19\n",
      "L3E1_f2: 31.52 minutes, std 0.71\n",
      "\n"
     ]
    }
   ],
   "source": [
    "methods = [\"commonNeighbor\", \"L3Normalizing\", \"CRA\", \"Sim\", \"CH2_L3\", \"L3E1_f1\", \"L3E1_f2\"]\n",
    "dss = ['bioGRID_human', 'STRING_human']\n",
    "\n",
    "for ds in dss:\n",
    "    print(ds)\n",
    "    for method in methods:\n",
    "        print(\"{}: {} minutes, std {}\".format(\n",
    "            method,\n",
    "            np.around(mean([runTime[\"{}_{}_sample_{}\".format(method, ds, i)] for i in range(10)])/60, 2),\n",
    "            np.around(np.std([runTime[\"{}_{}_sample_{}\".format(method, ds, i)] for i in range(10)])/60, 2)\n",
    "         ))\n",
    "\n",
    "    print(\"\")"
   ]
  }
 ],
 "metadata": {
  "kernelspec": {
   "display_name": "Python 3 (ipykernel)",
   "language": "python",
   "name": "python3"
  },
  "language_info": {
   "codemirror_mode": {
    "name": "ipython",
    "version": 3
   },
   "file_extension": ".py",
   "mimetype": "text/x-python",
   "name": "python",
   "nbconvert_exporter": "python",
   "pygments_lexer": "ipython3",
   "version": "3.12.6"
  },
  "latex_envs": {
   "LaTeX_envs_menu_present": true,
   "autoclose": false,
   "autocomplete": true,
   "bibliofile": "biblio.bib",
   "cite_by": "apalike",
   "current_citInitial": 1,
   "eqLabelWithNumbers": true,
   "eqNumInitial": 1,
   "hotkeys": {
    "equation": "Ctrl-E",
    "itemize": "Ctrl-I"
   },
   "labels_anchors": false,
   "latex_user_defs": false,
   "report_style_numbering": false,
   "user_envs_cfg": false
  }
 },
 "nbformat": 4,
 "nbformat_minor": 4
}