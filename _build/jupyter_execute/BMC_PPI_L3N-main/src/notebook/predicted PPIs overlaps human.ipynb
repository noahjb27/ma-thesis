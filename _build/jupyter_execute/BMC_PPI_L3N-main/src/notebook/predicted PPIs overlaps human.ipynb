{
 "cells": [
  {
   "cell_type": "code",
   "execution_count": 1,
   "metadata": {
    "ExecuteTime": {
     "end_time": "2021-07-04T18:21:53.599234Z",
     "start_time": "2021-07-04T18:21:50.337266Z"
    }
   },
   "outputs": [
    {
     "ename": "ModuleNotFoundError",
     "evalue": "No module named 'seaborn'",
     "output_type": "error",
     "traceback": [
      "\u001b[1;31m---------------------------------------------------------------------------\u001b[0m",
      "\u001b[1;31mModuleNotFoundError\u001b[0m                       Traceback (most recent call last)",
      "Cell \u001b[1;32mIn[1], line 12\u001b[0m\n\u001b[0;32m     10\u001b[0m \u001b[38;5;28;01mimport\u001b[39;00m \u001b[38;5;21;01mpandas\u001b[39;00m \u001b[38;5;28;01mas\u001b[39;00m \u001b[38;5;21;01mpd\u001b[39;00m\n\u001b[0;32m     11\u001b[0m \u001b[38;5;28;01mimport\u001b[39;00m \u001b[38;5;21;01mnumpy\u001b[39;00m \u001b[38;5;28;01mas\u001b[39;00m \u001b[38;5;21;01mnp\u001b[39;00m\n\u001b[1;32m---> 12\u001b[0m \u001b[38;5;28;01mimport\u001b[39;00m \u001b[38;5;21;01mseaborn\u001b[39;00m \u001b[38;5;28;01mas\u001b[39;00m \u001b[38;5;21;01msns\u001b[39;00m\n\u001b[0;32m     13\u001b[0m \u001b[38;5;28;01mfrom\u001b[39;00m \u001b[38;5;21;01mstatistics\u001b[39;00m \u001b[38;5;28;01mimport\u001b[39;00m median\n\u001b[0;32m     14\u001b[0m \u001b[38;5;28;01mfrom\u001b[39;00m \u001b[38;5;21;01mmatplotlib\u001b[39;00m \u001b[38;5;28;01mimport\u001b[39;00m pyplot \u001b[38;5;28;01mas\u001b[39;00m plt\n",
      "\u001b[1;31mModuleNotFoundError\u001b[0m: No module named 'seaborn'"
     ]
    }
   ],
   "source": [
    "import sys\n",
    "sys.path.append('..')\n",
    "import warnings\n",
    "warnings.filterwarnings(\"ignore\")\n",
    "\n",
    "\n",
    "# standard\n",
    "import json, pickle\n",
    "from collections import defaultdict\n",
    "import pandas as pd\n",
    "import numpy as np\n",
    "import seaborn as sns\n",
    "from statistics import median\n",
    "from matplotlib import pyplot as plt\n",
    "from sklearn import metrics\n",
    "import matplotlib.ticker as ticker\n",
    "from itertools import combinations\n",
    "from scipy import stats\n",
    "import math\n",
    "from matplotlib.ticker import FormatStrFormatter\n",
    "\n",
    "# my lib\n",
    "import PPILinkPred as pred\n",
    "import genData_helper as helper\n",
    "import traversalHelper as tr"
   ]
  },
  {
   "cell_type": "code",
   "execution_count": 2,
   "metadata": {
    "ExecuteTime": {
     "end_time": "2021-07-04T18:21:53.615248Z",
     "start_time": "2021-07-04T18:21:53.600235Z"
    }
   },
   "outputs": [],
   "source": [
    "colors = {\n",
    "    \"L3E1_f1\": \"tab:blue\",\n",
    "    \"L3E1_f2\": \"tab:olive\",\n",
    "    \"L3E4_f1\": \"tab:cyan\",\n",
    "    \"L3E4_f2\": \"tab:pink\",\n",
    "    \"L3\": \"tab:orange\",\n",
    "    \"CN\": \"tab:green\",\n",
    "    \"CRA\": \"tab:red\",\n",
    "    \"CH2\": \"tab:brown\",\n",
    "    \"Sim\": \"tab:purple\",\n",
    "    \"rand\": \"tab:grey\"\n",
    "}\n",
    "\n",
    "methods = [\"commonNeighbor\", \"L3Normalizing\", \"CRA\", \"Sim\", \"CH2_L3\", \"random\"]+[\"L3E1_{}\".format(i) for i in ['f1', 'f2']]\n",
    "methods_map = [\"CN\", \"L3\", \"CRA\", \"Sim\", \"CH2\", \"rand\"]+[\"L3E1_{}\".format(i) for i in ['f1', 'f2']]\n",
    "abbrev_map = [\"CN\", \"L3\", \"CRA\", \"Sim\", \"CH2\", \"rand\"]+[\"L3E\\n($f_{\"+str(i)+\"}$)\" for i in range(1,3)]\n",
    "label_map = [\"CN\", \"L3\", \"CRA\", \"Sim\", \"CH2\", \"rand\"]+[\"L3E($f_{\"+str(i)+\"}$)\" for i in range(1,3)]\n",
    "\n",
    "methods_names = dict(zip(methods, methods_map))\n",
    "abbrevs = dict(zip(methods_map, abbrev_map))\n",
    "labels = dict(zip(methods_map, label_map))"
   ]
  },
  {
   "cell_type": "code",
   "execution_count": 3,
   "metadata": {
    "ExecuteTime": {
     "end_time": "2021-07-04T18:27:13.492304Z",
     "start_time": "2021-07-04T18:21:53.619253Z"
    }
   },
   "outputs": [],
   "source": [
    "methods = [\"commonNeighbor\", \"L3Normalizing\", \"CRA\", \"Sim\", \"CH2_L3\", \"L3E1_f1\", \"L3E1_f2\", \"random\"]\n",
    "ds_names = ['bioGRID_human', 'STRING_human', 'MINT_human', 'HuRI']\n",
    "parseTopPPIs = {}\n",
    "\n",
    "for randSz in range(50, 100, 10):\n",
    "    parseTopPPIs[randSz] = {}\n",
    "    for ds in ds_names:\n",
    "        parseTopPPIs[randSz][ds] = {}\n",
    "        for method in methods:\n",
    "            methodName = methods_names[method]\n",
    "            parseTopPPIs[randSz][ds][methodName] = set()\n",
    "            if randSz == 50:\n",
    "                filename = \"./linkPred_out_reduced/{}_{}_topPPI.json\".format(method, ds)\n",
    "            else:\n",
    "                filename = \"./linkPred_out_reduced/{}_{}_randSz{}_topPPI.json\".format(method, ds, randSz)\n",
    "            with open(filename, \"r\") as f:\n",
    "                tmpPPIs = json.loads(f.read())\n",
    "                for trial in range(len(tmpPPIs)):\n",
    "                    parseTopPPIs[randSz][ds][methodName].update(set([\"\\t\".join(sorted(ppi)) for ppi in tmpPPIs[trial]]))\n",
    "#print(parseTopPPIs[50]['bioGRID']['CN'])"
   ]
  },
  {
   "cell_type": "code",
   "execution_count": 4,
   "metadata": {
    "ExecuteTime": {
     "end_time": "2021-07-04T18:27:19.430708Z",
     "start_time": "2021-07-04T18:27:13.493305Z"
    },
    "hide_input": false,
    "scrolled": true
   },
   "outputs": [
    {
     "name": "stdout",
     "output_type": "stream",
     "text": [
      "{50: {'bioGRID_human': {'CN_CN': 0.64, 'CN_L3': 0.38, 'CN_rand': 0.01, 'L3_L3': 0.69, 'L3_rand': 0.01, 'CRA_L3E': 0.37}, 'STRING_human': {'CN_CN': 0.54, 'CN_L3': 0.44, 'CN_rand': 0.01, 'L3_L3': 0.58, 'L3_rand': 0.01, 'CRA_L3E': 0.44}, 'MINT_human': {'CN_CN': 0.37, 'CN_L3': 0.04, 'CN_rand': 0.01, 'L3_L3': 0.71, 'L3_rand': 0.01, 'CRA_L3E': 0.05}, 'HuRI': {'CN_CN': 0.64, 'CN_L3': 0.24, 'CN_rand': 0.01, 'L3_L3': 0.79, 'L3_rand': 0.01, 'CRA_L3E': 0.23}}, 60: {'bioGRID_human': {'CN_CN': 0.67, 'CN_L3': 0.43, 'CN_rand': 0.01, 'L3_L3': 0.7, 'L3_rand': 0.01, 'CRA_L3E': 0.44}, 'STRING_human': {'CN_CN': 0.54, 'CN_L3': 0.46, 'CN_rand': 0.01, 'L3_L3': 0.6, 'L3_rand': 0.01, 'CRA_L3E': 0.55}, 'MINT_human': {'CN_CN': 0.49, 'CN_L3': 0.05, 'CN_rand': 0.0, 'L3_L3': 0.71, 'L3_rand': 0.0, 'CRA_L3E': 0.06}, 'HuRI': {'CN_CN': 0.7, 'CN_L3': 0.26, 'CN_rand': 0.01, 'L3_L3': 0.79, 'L3_rand': 0.01, 'CRA_L3E': 0.26}}, 70: {'bioGRID_human': {'CN_CN': 0.67, 'CN_L3': 0.44, 'CN_rand': 0.0, 'L3_L3': 0.62, 'L3_rand': 0.0, 'CRA_L3E': 0.48}, 'STRING_human': {'CN_CN': 0.54, 'CN_L3': 0.45, 'CN_rand': 0.01, 'L3_L3': 0.56, 'L3_rand': 0.01, 'CRA_L3E': 0.51}, 'MINT_human': {'CN_CN': 0.39, 'CN_L3': 0.08, 'CN_rand': 0.0, 'L3_L3': 0.69, 'L3_rand': 0.0, 'CRA_L3E': 0.11}, 'HuRI': {'CN_CN': 0.69, 'CN_L3': 0.29, 'CN_rand': 0.0, 'L3_L3': 0.78, 'L3_rand': 0.0, 'CRA_L3E': 0.29}}, 80: {'bioGRID_human': {'CN_CN': 0.64, 'CN_L3': 0.44, 'CN_rand': 0.0, 'L3_L3': 0.61, 'L3_rand': 0.0, 'CRA_L3E': 0.5}, 'STRING_human': {'CN_CN': 0.56, 'CN_L3': 0.46, 'CN_rand': 0.0, 'L3_L3': 0.6, 'L3_rand': 0.0, 'CRA_L3E': 0.49}, 'MINT_human': {'CN_CN': 0.31, 'CN_L3': 0.1, 'CN_rand': 0.0, 'L3_L3': 0.65, 'L3_rand': 0.0, 'CRA_L3E': 0.17}, 'HuRI': {'CN_CN': 0.67, 'CN_L3': 0.31, 'CN_rand': 0.0, 'L3_L3': 0.76, 'L3_rand': 0.0, 'CRA_L3E': 0.33}}, 90: {'bioGRID_human': {'CN_CN': 0.64, 'CN_L3': 0.43, 'CN_rand': 0.0, 'L3_L3': 0.57, 'L3_rand': 0.0, 'CRA_L3E': 0.52}, 'STRING_human': {'CN_CN': 0.59, 'CN_L3': 0.48, 'CN_rand': 0.0, 'L3_L3': 0.55, 'L3_rand': 0.0, 'CRA_L3E': 0.52}, 'MINT_human': {'CN_CN': 0.32, 'CN_L3': 0.11, 'CN_rand': 0.0, 'L3_L3': 0.56, 'L3_rand': 0.0, 'CRA_L3E': 0.18}, 'HuRI': {'CN_CN': 0.61, 'CN_L3': 0.36, 'CN_rand': 0.0, 'L3_L3': 0.71, 'L3_rand': 0.0, 'CRA_L3E': 0.42}}}\n",
      "{50: {'bioGRID_human': {'CN_CN': 0.0, 'CN_L3': 0.04, 'CN_rand': 0.0, 'L3_L3': 0.04, 'L3_rand': 0.0, 'CRA_L3E': 0.0}, 'STRING_human': {'CN_CN': 0.0, 'CN_L3': 0.03, 'CN_rand': 0.0, 'L3_L3': 0.04, 'L3_rand': 0.0, 'CRA_L3E': 0.0}, 'MINT_human': {'CN_CN': 0.0, 'CN_L3': 0.02, 'CN_rand': 0.0, 'L3_L3': 0.1, 'L3_rand': 0.0, 'CRA_L3E': 0.0}, 'HuRI': {'CN_CN': 0.0, 'CN_L3': 0.03, 'CN_rand': 0.0, 'L3_L3': 0.07, 'L3_rand': 0.0, 'CRA_L3E': 0.0}}, 60: {'bioGRID_human': {'CN_CN': 0.0, 'CN_L3': 0.03, 'CN_rand': 0.0, 'L3_L3': 0.04, 'L3_rand': 0.0, 'CRA_L3E': 0.0}, 'STRING_human': {'CN_CN': 0.0, 'CN_L3': 0.05, 'CN_rand': 0.0, 'L3_L3': 0.05, 'L3_rand': 0.0, 'CRA_L3E': 0.0}, 'MINT_human': {'CN_CN': 0.0, 'CN_L3': 0.02, 'CN_rand': 0.0, 'L3_L3': 0.09, 'L3_rand': 0.0, 'CRA_L3E': 0.0}, 'HuRI': {'CN_CN': 0.0, 'CN_L3': 0.03, 'CN_rand': 0.0, 'L3_L3': 0.07, 'L3_rand': 0.0, 'CRA_L3E': 0.0}}, 70: {'bioGRID_human': {'CN_CN': 0.0, 'CN_L3': 0.06, 'CN_rand': 0.0, 'L3_L3': 0.11, 'L3_rand': 0.0, 'CRA_L3E': 0.0}, 'STRING_human': {'CN_CN': 0.0, 'CN_L3': 0.03, 'CN_rand': 0.0, 'L3_L3': 0.02, 'L3_rand': 0.0, 'CRA_L3E': 0.0}, 'MINT_human': {'CN_CN': 0.0, 'CN_L3': 0.03, 'CN_rand': 0.0, 'L3_L3': 0.1, 'L3_rand': 0.0, 'CRA_L3E': 0.0}, 'HuRI': {'CN_CN': 0.0, 'CN_L3': 0.03, 'CN_rand': 0.0, 'L3_L3': 0.07, 'L3_rand': 0.0, 'CRA_L3E': 0.0}}, 80: {'bioGRID_human': {'CN_CN': 0.0, 'CN_L3': 0.04, 'CN_rand': 0.0, 'L3_L3': 0.06, 'L3_rand': 0.0, 'CRA_L3E': 0.0}, 'STRING_human': {'CN_CN': 0.0, 'CN_L3': 0.04, 'CN_rand': 0.0, 'L3_L3': 0.08, 'L3_rand': 0.0, 'CRA_L3E': 0.0}, 'MINT_human': {'CN_CN': 0.0, 'CN_L3': 0.05, 'CN_rand': 0.0, 'L3_L3': 0.11, 'L3_rand': 0.0, 'CRA_L3E': 0.0}, 'HuRI': {'CN_CN': 0.0, 'CN_L3': 0.04, 'CN_rand': 0.0, 'L3_L3': 0.07, 'L3_rand': 0.0, 'CRA_L3E': 0.0}}, 90: {'bioGRID_human': {'CN_CN': 0.0, 'CN_L3': 0.07, 'CN_rand': 0.0, 'L3_L3': 0.07, 'L3_rand': 0.0, 'CRA_L3E': 0.0}, 'STRING_human': {'CN_CN': 0.0, 'CN_L3': 0.04, 'CN_rand': 0.0, 'L3_L3': 0.02, 'L3_rand': 0.0, 'CRA_L3E': 0.0}, 'MINT_human': {'CN_CN': 0.0, 'CN_L3': 0.06, 'CN_rand': 0.0, 'L3_L3': 0.15, 'L3_rand': 0.0, 'CRA_L3E': 0.0}, 'HuRI': {'CN_CN': 0.0, 'CN_L3': 0.06, 'CN_rand': 0.0, 'L3_L3': 0.09, 'L3_rand': 0.0, 'CRA_L3E': 0.0}}}\n"
     ]
    }
   ],
   "source": [
    "# calculate overlap class-based\n",
    "myMethods = [\"CN\", \"CRA\", \"L3\", \"CH2\", \"Sim\", \"L3E1_f1\", \"L3E1_f2\", \"rand\"]\n",
    "principles = [\"CN\", \"CN\", \"L3\", \"L3\", \"L3\", \"L3\", \"L3\", \"rand\"]\n",
    "ds_names = ['bioGRID_human', 'STRING_human', 'MINT_human', 'HuRI']\n",
    "overlaps_mats_grouped = {}\n",
    "\n",
    "for randSz in range(50, 100, 10):\n",
    "    overlaps_mats_grouped[randSz] = {}\n",
    "    for ds in ds_names:\n",
    "        overlaps_mats_grouped[randSz][ds] = defaultdict(list)\n",
    "        for A_i in range(len(myMethods)):\n",
    "            for B_i in range(len(myMethods)):\n",
    "                if B_i < A_i or A_i == B_i: continue\n",
    "                methodA, methodB = myMethods[A_i], myMethods[B_i]\n",
    "                overlaps_mats_grouped[randSz][ds][\"{}_{}\".format(principles[A_i], principles[B_i])].append(\n",
    "                    np.around(len(parseTopPPIs[randSz][ds][methodA]&parseTopPPIs[randSz][ds][methodB]\n",
    "                           )/len(parseTopPPIs[randSz][ds][methodA]), 4))\n",
    "                \n",
    "        overlaps_mats_grouped[randSz][ds][\"CRA_L3E\".format()].append(\n",
    "            np.around(len(parseTopPPIs[randSz][ds][\"CRA\"]&parseTopPPIs[randSz][ds][\"L3E1_f1\"]\n",
    "                   )/len(parseTopPPIs[randSz][ds][\"CRA\"]), 4))\n",
    "\n",
    "        \n",
    "                \n",
    "# convert grouped to mean & std\n",
    "overlaps_mats_mean, overlaps_mats_std = {}, {}\n",
    "for randSz in range(50, 100, 10):\n",
    "    overlaps_mats_mean[randSz], overlaps_mats_std[randSz] = {}, {}\n",
    "    for ds in ds_names:\n",
    "        overlaps_mats_mean[randSz][ds], overlaps_mats_std[randSz][ds] = {}, {}\n",
    "        for pair in overlaps_mats_grouped[randSz][ds]:\n",
    "            overlaps_mats_mean[randSz][ds][pair] = np.around(np.mean(overlaps_mats_grouped[randSz][ds][pair]), 2)\n",
    "            overlaps_mats_std[randSz][ds][pair] = np.around(np.std(overlaps_mats_grouped[randSz][ds][pair]), 2)\n",
    "                \n",
    "print(overlaps_mats_mean)\n",
    "print(overlaps_mats_std)"
   ]
  },
  {
   "cell_type": "code",
   "execution_count": 7,
   "metadata": {
    "ExecuteTime": {
     "end_time": "2021-07-04T18:30:12.315625Z",
     "start_time": "2021-07-04T18:30:12.308619Z"
    }
   },
   "outputs": [
    {
     "name": "stdout",
     "output_type": "stream",
     "text": [
      "\\cellcolor{gray!15} bioGRID_human & \\textcolor{blue}{64\\%} & \\textcolor{blue}{69 $\\pm$ 4 \\%} & \\textcolor{red}{38 $\\pm$ 4 \\%} & \\textcolor{red}{37\\%} \\\\ \\hline\n",
      "\\cellcolor{gray!15} STRING_human & \\textcolor{blue}{54\\%} & \\textcolor{blue}{58 $\\pm$ 4 \\%} & \\textcolor{red}{44 $\\pm$ 3 \\%} & \\textcolor{red}{44\\%} \\\\ \\hline\n",
      "\\cellcolor{gray!15} MINT_human & \\textcolor{blue}{37\\%} & \\textcolor{blue}{71 $\\pm$ 10 \\%} & \\textcolor{red}{4 $\\pm$ 2 \\%} & \\textcolor{red}{5\\%} \\\\ \\hline\n",
      "\\cellcolor{gray!15} HuRI & \\textcolor{blue}{64\\%} & \\textcolor{blue}{79 $\\pm$ 7 \\%} & \\textcolor{red}{24 $\\pm$ 3 \\%} & \\textcolor{red}{23\\%} \\\\ \\hline\n"
     ]
    }
   ],
   "source": [
    "# overlaps_mats_mean, overlaps_mats_std\n",
    "# y: dataset w sample size, x: principle pair\n",
    "principlePairs = ['CN_CN', 'L3_L3', 'CN_L3', 'CRA_L3E']\n",
    "colors = [\"blue\", \"blue\", \"red\", \"red\"]\n",
    "colorsMap = dict(zip(principlePairs, colors))\n",
    "\n",
    "overlapMeanTB_str = []\n",
    "for ds in ['bioGRID_human', 'STRING_human', 'MINT_human', 'HuRI']:\n",
    "    for randSz in range(50, 51, 10):\n",
    "        buildStr = \"\\cellcolor{gray!15} \"+ds\n",
    "        for pair in principlePairs:\n",
    "            if 'rand' in pair: continue\n",
    "            if 'CN_CN' == pair or \"CRA\" in pair:\n",
    "                buildStr += \" & \\\\textcolor{\"+colorsMap[pair]+\"}{\"+(str(int(overlaps_mats_mean[randSz][ds][pair]*100))+\"\\\\%}\")\n",
    "            else:\n",
    "                buildStr += \" & \\\\textcolor{\"+colorsMap[pair]+\"}{\"+(str(int(np.around(overlaps_mats_mean[randSz][ds][pair]*100, 2)))+\" $\\\\pm$ \"+str(\n",
    "                        int(np.around(overlaps_mats_std[randSz][ds][pair]*100, 2)))+\" \\\\%}\")\n",
    "        print(buildStr+\" \\\\\\\\ \\\\hline\")"
   ]
  },
  {
   "cell_type": "code",
   "execution_count": 8,
   "metadata": {
    "ExecuteTime": {
     "end_time": "2021-07-04T18:30:12.506810Z",
     "start_time": "2021-07-04T18:30:12.489795Z"
    },
    "scrolled": true
   },
   "outputs": [
    {
     "name": "stdout",
     "output_type": "stream",
     "text": [
      "\\multicolumn{5}{|l|}{\\textbf{bioGRID_human Yeast}} \\\\ \\hline\n",
      "\\cellcolor{gray!15} 50\\% sample size & \\textcolor{blue}{64\\%} & \\textcolor{blue}{69 $\\pm$ 4 \\%} & \\textcolor{red}{38 $\\pm$ 4 \\%} & \\textcolor{red}{37\\%} \\\\ \\hline\n",
      "\\cellcolor{gray!15} 60\\% sample size & \\textcolor{blue}{67\\%} & \\textcolor{blue}{70 $\\pm$ 4 \\%} & \\textcolor{red}{43 $\\pm$ 3 \\%} & \\textcolor{red}{44\\%} \\\\ \\hline\n",
      "\\cellcolor{gray!15} 70\\% sample size & \\textcolor{blue}{67\\%} & \\textcolor{blue}{62 $\\pm$ 11 \\%} & \\textcolor{red}{44 $\\pm$ 6 \\%} & \\textcolor{red}{48\\%} \\\\ \\hline\n",
      "\\cellcolor{gray!15} 80\\% sample size & \\textcolor{blue}{64\\%} & \\textcolor{blue}{61 $\\pm$ 6 \\%} & \\textcolor{red}{44 $\\pm$ 4 \\%} & \\textcolor{red}{50\\%} \\\\ \\hline\n",
      "\\cellcolor{gray!15} 90\\% sample size & \\textcolor{blue}{64\\%} & \\textcolor{blue}{57 $\\pm$ 7 \\%} & \\textcolor{red}{43 $\\pm$ 7 \\%} & \\textcolor{red}{52\\%} \\\\ \\hline\n",
      "\\multicolumn{5}{|l|}{\\textbf{STRING_human Yeast}} \\\\ \\hline\n",
      "\\cellcolor{gray!15} 50\\% sample size & \\textcolor{blue}{54\\%} & \\textcolor{blue}{58 $\\pm$ 4 \\%} & \\textcolor{red}{44 $\\pm$ 3 \\%} & \\textcolor{red}{44\\%} \\\\ \\hline\n",
      "\\cellcolor{gray!15} 60\\% sample size & \\textcolor{blue}{54\\%} & \\textcolor{blue}{60 $\\pm$ 5 \\%} & \\textcolor{red}{46 $\\pm$ 5 \\%} & \\textcolor{red}{55\\%} \\\\ \\hline\n",
      "\\cellcolor{gray!15} 70\\% sample size & \\textcolor{blue}{54\\%} & \\textcolor{blue}{56 $\\pm$ 2 \\%} & \\textcolor{red}{45 $\\pm$ 3 \\%} & \\textcolor{red}{51\\%} \\\\ \\hline\n",
      "\\cellcolor{gray!15} 80\\% sample size & \\textcolor{blue}{56\\%} & \\textcolor{blue}{60 $\\pm$ 8 \\%} & \\textcolor{red}{46 $\\pm$ 4 \\%} & \\textcolor{red}{49\\%} \\\\ \\hline\n",
      "\\cellcolor{gray!15} 90\\% sample size & \\textcolor{blue}{59\\%} & \\textcolor{blue}{55 $\\pm$ 2 \\%} & \\textcolor{red}{48 $\\pm$ 4 \\%} & \\textcolor{red}{52\\%} \\\\ \\hline\n",
      "\\multicolumn{5}{|l|}{\\textbf{MINT_human Yeast}} \\\\ \\hline\n",
      "\\cellcolor{gray!15} 50\\% sample size & \\textcolor{blue}{37\\%} & \\textcolor{blue}{71 $\\pm$ 10 \\%} & \\textcolor{red}{4 $\\pm$ 2 \\%} & \\textcolor{red}{5\\%} \\\\ \\hline\n",
      "\\cellcolor{gray!15} 60\\% sample size & \\textcolor{blue}{49\\%} & \\textcolor{blue}{71 $\\pm$ 9 \\%} & \\textcolor{red}{5 $\\pm$ 2 \\%} & \\textcolor{red}{6\\%} \\\\ \\hline\n",
      "\\cellcolor{gray!15} 70\\% sample size & \\textcolor{blue}{39\\%} & \\textcolor{blue}{69 $\\pm$ 10 \\%} & \\textcolor{red}{8 $\\pm$ 3 \\%} & \\textcolor{red}{11\\%} \\\\ \\hline\n",
      "\\cellcolor{gray!15} 80\\% sample size & \\textcolor{blue}{31\\%} & \\textcolor{blue}{65 $\\pm$ 11 \\%} & \\textcolor{red}{10 $\\pm$ 5 \\%} & \\textcolor{red}{17\\%} \\\\ \\hline\n",
      "\\cellcolor{gray!15} 90\\% sample size & \\textcolor{blue}{32\\%} & \\textcolor{blue}{56 $\\pm$ 15 \\%} & \\textcolor{red}{11 $\\pm$ 6 \\%} & \\textcolor{red}{18\\%} \\\\ \\hline\n",
      "\\multicolumn{5}{|l|}{\\textbf{HuRI Yeast}} \\\\ \\hline\n",
      "\\cellcolor{gray!15} 50\\% sample size & \\textcolor{blue}{64\\%} & \\textcolor{blue}{79 $\\pm$ 7 \\%} & \\textcolor{red}{24 $\\pm$ 3 \\%} & \\textcolor{red}{23\\%} \\\\ \\hline\n",
      "\\cellcolor{gray!15} 60\\% sample size & \\textcolor{blue}{70\\%} & \\textcolor{blue}{79 $\\pm$ 7 \\%} & \\textcolor{red}{26 $\\pm$ 3 \\%} & \\textcolor{red}{26\\%} \\\\ \\hline\n",
      "\\cellcolor{gray!15} 70\\% sample size & \\textcolor{blue}{69\\%} & \\textcolor{blue}{78 $\\pm$ 7 \\%} & \\textcolor{red}{29 $\\pm$ 3 \\%} & \\textcolor{red}{29\\%} \\\\ \\hline\n",
      "\\cellcolor{gray!15} 80\\% sample size & \\textcolor{blue}{67\\%} & \\textcolor{blue}{76 $\\pm$ 7 \\%} & \\textcolor{red}{31 $\\pm$ 4 \\%} & \\textcolor{red}{33\\%} \\\\ \\hline\n",
      "\\cellcolor{gray!15} 90\\% sample size & \\textcolor{blue}{61\\%} & \\textcolor{blue}{71 $\\pm$ 9 \\%} & \\textcolor{red}{36 $\\pm$ 6 \\%} & \\textcolor{red}{42\\%} \\\\ \\hline\n"
     ]
    }
   ],
   "source": [
    "# overlaps_mats_mean, overlaps_mats_std\n",
    "# y: dataset w sample size, x: principle pair\n",
    "principlePairs = ['CN_CN', 'L3_L3', 'CN_L3', 'CRA_L3E']\n",
    "colors = [\"blue\", \"blue\", \"red\", \"red\"]\n",
    "colorsMap = dict(zip(principlePairs, colors))\n",
    "\n",
    "overlapMeanTB_str = []\n",
    "for ds in ['bioGRID_human', 'STRING_human', 'MINT_human', 'HuRI']:\n",
    "    print(\"\\\\multicolumn{5}{|l|}{\\\\textbf{\"+ds+\" Yeast}} \\\\\\\\ \\\\hline\")\n",
    "    for randSz in range(50, 100, 10):\n",
    "        buildStr = \"\\\\cellcolor{gray!15} \"+str(randSz)+\"\\\\% sample size\"\n",
    "        for pair in principlePairs:\n",
    "            if 'rand' in pair: continue\n",
    "            if 'CN_CN' == pair or \"CRA\" in pair:\n",
    "                buildStr += \" & \\\\textcolor{\"+colorsMap[pair]+\"}{\"+(str(int(np.around(overlaps_mats_mean[randSz][ds][pair]*100, 2)))+\"\\\\%}\")\n",
    "            else:\n",
    "                buildStr += \" & \\\\textcolor{\"+colorsMap[pair]+\"}{\"+(str(int(np.around(overlaps_mats_mean[randSz][ds][pair]*100, 2)))+\" $\\\\pm$ \"+str(\n",
    "                        int(np.around(overlaps_mats_std[randSz][ds][pair]*100, 2)))+\" \\\\%}\")\n",
    "        print(buildStr+\" \\\\\\\\ \\\\hline\")"
   ]
  },
  {
   "cell_type": "code",
   "execution_count": null,
   "metadata": {},
   "outputs": [],
   "source": []
  }
 ],
 "metadata": {
  "kernelspec": {
   "display_name": "Python 3",
   "language": "python",
   "name": "python3"
  },
  "language_info": {
   "codemirror_mode": {
    "name": "ipython",
    "version": 3
   },
   "file_extension": ".py",
   "mimetype": "text/x-python",
   "name": "python",
   "nbconvert_exporter": "python",
   "pygments_lexer": "ipython3",
   "version": "3.12.6"
  }
 },
 "nbformat": 4,
 "nbformat_minor": 4
}